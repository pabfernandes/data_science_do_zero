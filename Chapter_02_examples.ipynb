{
 "cells": [
  {
   "cell_type": "code",
   "execution_count": 9,
   "id": "b17b0b37",
   "metadata": {},
   "outputs": [
    {
     "name": "stderr",
     "output_type": "stream",
     "text": [
      "Matplotlib is building the font cache; this may take a moment.\n"
     ]
    }
   ],
   "source": [
    "import matplotlib.pyplot as plt"
   ]
  },
  {
   "cell_type": "code",
   "execution_count": 3,
   "id": "ddf855d0",
   "metadata": {},
   "outputs": [],
   "source": [
    "import re as regex"
   ]
  },
  {
   "cell_type": "code",
   "execution_count": 5,
   "id": "07792224",
   "metadata": {},
   "outputs": [],
   "source": [
    "my_regex = regex.compile(\"[0-9]+\", regex.I)\n"
   ]
  },
  {
   "cell_type": "code",
   "execution_count": 7,
   "id": "b4fc5ac3",
   "metadata": {},
   "outputs": [
    {
     "name": "stdout",
     "output_type": "stream",
     "text": [
      "re.compile('[0-9]+', re.IGNORECASE)\n"
     ]
    }
   ],
   "source": [
    "print(my_regex)"
   ]
  },
  {
   "cell_type": "code",
   "execution_count": 10,
   "id": "b7a8c608",
   "metadata": {},
   "outputs": [
    {
     "data": {
      "text/plain": [
       "[<matplotlib.lines.Line2D at 0x2234d6b3a90>,\n",
       " <matplotlib.lines.Line2D at 0x2234d6b3af0>,\n",
       " <matplotlib.lines.Line2D at 0x2234d6b3b20>]"
      ]
     },
     "execution_count": 10,
     "metadata": {},
     "output_type": "execute_result"
    },
    {
     "data": {
      "image/png": "[encoded data removed]",
      "text/plain": [
       "<Figure size 432x288 with 1 Axes>"
      ]
     },
     "metadata": {
      "needs_background": "light"
     },
     "output_type": "display_data"
    }
   ],
   "source": [
    "plt.plot(1,2,3,4,5)"
   ]
  },
  {
   "cell_type": "code",
   "execution_count": 11,
   "id": "bdd8c6f0",
   "metadata": {},
   "outputs": [],
   "source": [
    "from collections import defaultdict, Counter\n",
    "lookup = defaultdict(int)\n",
    "my_counter = Counter()"
   ]
  },
  {
   "cell_type": "code",
   "execution_count": 12,
   "id": "6c39a046",
   "metadata": {},
   "outputs": [
    {
     "name": "stdout",
     "output_type": "stream",
     "text": [
      "defaultdict(<class 'int'>, {})\n"
     ]
    }
   ],
   "source": [
    "print(lookup)\n"
   ]
  },
  {
   "cell_type": "code",
   "execution_count": 13,
   "id": "040488eb",
   "metadata": {},
   "outputs": [],
   "source": []
  },
  {
   "cell_type": "code",
   "execution_count": 26,
   "id": "3835fb9d",
   "metadata": {},
   "outputs": [
    {
     "ename": "IndexError",
     "evalue": "list assignment index out of range",
     "output_type": "error",
     "traceback": [
      "\u001b[1;31m---------------------------------------------------------------------------\u001b[0m",
      "\u001b[1;31mIndexError\u001b[0m                                Traceback (most recent call last)",
      "Input \u001b[1;32mIn [26]\u001b[0m, in \u001b[0;36m<cell line: 4>\u001b[1;34m()\u001b[0m\n\u001b[0;32m      3\u001b[0m i \u001b[38;5;241m=\u001b[39m \u001b[38;5;241m0\u001b[39m\n\u001b[0;32m      4\u001b[0m \u001b[38;5;28;01mfor\u001b[39;00m vogal \u001b[38;5;129;01min\u001b[39;00m variavel_2:\n\u001b[1;32m----> 5\u001b[0m     lista[i] \u001b[38;5;241m=\u001b[39m vogal \u001b[38;5;129;01min\u001b[39;00m variavel_1\n\u001b[0;32m      6\u001b[0m     i\u001b[38;5;241m=\u001b[39mi\u001b[38;5;241m+\u001b[39m\u001b[38;5;241m1\u001b[39m\n\u001b[0;32m      7\u001b[0m \u001b[38;5;28mprint\u001b[39m(lista)\n",
      "\u001b[1;31mIndexError\u001b[0m: list assignment index out of range"
     ]
    }
   ],
   "source": []
  },
  {
   "cell_type": "code",
   "execution_count": 29,
   "id": "4d5bebf7",
   "metadata": {},
   "outputs": [
    {
     "name": "stdout",
     "output_type": "stream",
     "text": [
      "3\n",
      "6\n"
     ]
    }
   ],
   "source": [
    "integer_list = [1,2,3]\n",
    "heterogeneous_list = [\"string\", 0.1, True]\n",
    "list_of_lists = [integer_list, heterogeneous_list, []]\n",
    "list_length = len(integer_list)\n",
    "list_sum = sum(integer_list)\n",
    "print(list_length)\n",
    "print(list_sum)"
   ]
  },
  {
   "cell_type": "code",
   "execution_count": 1,
   "id": "9bce6188",
   "metadata": {
    "scrolled": true
   },
   "outputs": [
    {
     "name": "stdout",
     "output_type": "stream",
     "text": [
      "t\n",
      "a\n",
      "g\n",
      "a\n",
      "m\n",
      "a\n",
      "n\n",
      "d\n",
      "a\n",
      "p\n",
      "i\n",
      "o\n",
      "t\n",
      "a\n",
      "g\n",
      "a\n",
      "m\n",
      "a\n",
      "n\n",
      "d\n",
      "a\n",
      "p\n",
      "i\n",
      "o\n"
     ]
    }
   ],
   "source": [
    "string_test = 'tagamandapio'\n",
    "for i in string_test:\n",
    "    print(i)\n",
    "for j in range(0,len(string_test)):\n",
    "    print(string_test[j])"
   ]
  },
  {
   "cell_type": "code",
   "execution_count": 2,
   "id": "997bd339",
   "metadata": {},
   "outputs": [
    {
     "name": "stdout",
     "output_type": "stream",
     "text": [
      "1 2\n"
     ]
    }
   ],
   "source": [
    "x, y = [1, 2]\n",
    "print(x, y)"
   ]
  },
  {
   "cell_type": "code",
   "execution_count": 3,
   "id": "b3851d51",
   "metadata": {},
   "outputs": [],
   "source": [
    "x = [1,2,3]"
   ]
  },
  {
   "cell_type": "code",
   "execution_count": 4,
   "id": "4abb8002",
   "metadata": {},
   "outputs": [],
   "source": [
    "x.extend([4,5,6])\n"
   ]
  },
  {
   "cell_type": "code",
   "execution_count": 5,
   "id": "2b85e138",
   "metadata": {},
   "outputs": [
    {
     "name": "stdout",
     "output_type": "stream",
     "text": [
      "[1, 2, 3, 4, 5, 6]\n"
     ]
    }
   ],
   "source": [
    "print(x)"
   ]
  },
  {
   "cell_type": "markdown",
   "id": "0ff507bb",
   "metadata": {},
   "source": [
    "# defauldict"
   ]
  },
  {
   "cell_type": "code",
   "execution_count": 9,
   "id": "f647ba69",
   "metadata": {},
   "outputs": [
    {
     "name": "stdout",
     "output_type": "stream",
     "text": [
      "{'Lorem': 1, 'ipsum': 2, 'dolor': 1, 'sit': 1, 'amet,': 1, 'consectetur': 2, 'adipiscing': 1, 'elit.': 1, 'In': 1, 'tincidunt': 1, 'est': 1, 'eros,': 1, 'in': 3, 'dapibus': 2, 'lectus': 1, 'sed.': 1, 'Phasellus': 2, 'nunc': 1, 'velit,': 1, 'mattis': 1, 'ac': 1, 'felis': 1, 'ut,': 1, 'lobortis': 1, 'erat.': 1, 'Sed': 1, 'tristique': 1, 'odio': 1, 'quis': 1, 'mauris': 1, 'porta,': 1, 'mollis': 1, 'turpis': 1, 'eleifend.': 1, 'non': 1, 'rhoncus': 1, 'lacus.': 1, 'Integer': 1, 'maximus': 1, 'mi,': 1, 'a': 1, 'ornare': 1, 'neque.': 1, 'Donec': 1, 'ullamcorper': 1, 'pellentesque': 1, 'vitae': 1, 'egestas.': 1, 'Curabitur': 1, 'nec': 1, 'nulla': 1, 'dignissim,': 1, 'feugiat': 1, 'urna': 1, 'in,': 1, 'porttitor': 1, 'magna.': 1}\n"
     ]
    }
   ],
   "source": [
    "lorem_ipsum = 'Lorem ipsum dolor sit amet, consectetur adipiscing elit. \\\n",
    "In tincidunt est eros, in dapibus lectus consectetur sed. \\\n",
    "Phasellus nunc velit, mattis ac felis ut, dapibus lobortis erat. \\\n",
    "Sed tristique odio quis mauris porta, in mollis turpis eleifend. \\\n",
    "Phasellus non rhoncus lacus. Integer in maximus mi, a ornare neque. \\\n",
    "Donec ullamcorper pellentesque ipsum vitae egestas. \\\n",
    "Curabitur nec nulla dignissim, feugiat urna in, porttitor magna.'\n",
    "\n",
    "lorem_ipsum_split = lorem_ipsum.split(' ')\n",
    "\n",
    "word_counts = {}\n",
    "for word in lorem_ipsum_split:\n",
    "    if word in word_counts:\n",
    "        word_counts[word] += 1\n",
    "    else:\n",
    "        word_counts[word] = 1\n",
    "\n",
    "        \n",
    "print(word_counts)"
   ]
  },
  {
   "cell_type": "code",
   "execution_count": 10,
   "id": "ec7affc6",
   "metadata": {},
   "outputs": [],
   "source": [
    "set_lorem = set(lorem_ipsum_split)"
   ]
  },
  {
   "cell_type": "code",
   "execution_count": 11,
   "id": "896cb745",
   "metadata": {},
   "outputs": [
    {
     "name": "stdout",
     "output_type": "stream",
     "text": [
      "{'dapibus', 'ipsum', 'mollis', 'turpis', 'ac', 'Curabitur', 'neque.', 'quis', 'ullamcorper', 'lectus', 'Donec', 'est', 'urna', 'sit', 'rhoncus', 'egestas.', 'non', 'vitae', 'mi,', 'mauris', 'odio', 'ornare', 'dolor', 'magna.', 'lacus.', 'dignissim,', 'porta,', 'Phasellus', 'sed.', 'in,', 'consectetur', 'Lorem', 'nunc', 'nec', 'feugiat', 'amet,', 'maximus', 'elit.', 'mattis', 'erat.', 'tristique', 'nulla', 'in', 'adipiscing', 'a', 'Integer', 'porttitor', 'Sed', 'In', 'felis', 'eleifend.', 'pellentesque', 'eros,', 'velit,', 'ut,', 'tincidunt', 'lobortis'}\n"
     ]
    }
   ],
   "source": [
    "print(set_lorem)"
   ]
  },
  {
   "cell_type": "code",
   "execution_count": null,
   "id": "c9263d83",
   "metadata": {},
   "outputs": [],
   "source": []
  }
 ],
 "metadata": {
  "kernelspec": {
   "display_name": "Python 3 (ipykernel)",
   "language": "python",
   "name": "python3"
  },
  "language_info": {
   "codemirror_mode": {
    "name": "ipython",
    "version": 3
   },
   "file_extension": ".py",
   "mimetype": "text/x-python",
   "name": "python",
   "nbconvert_exporter": "python",
   "pygments_lexer": "ipython3",
   "version": "3.9.12"
  }
 },
 "nbformat": 4,
 "nbformat_minor": 5
}
